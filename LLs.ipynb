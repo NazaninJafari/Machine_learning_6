{
 "cells": [
  {
   "cell_type": "code",
   "execution_count": 1,
   "id": "cf7e6c87-d45d-4bab-95c0-e511c7ddbec7",
   "metadata": {},
   "outputs": [],
   "source": [
    "import numpy as np\n",
    "import matplotlib.pyplot as plt\n",
    "import pandas as pd\n",
    "from sklearn.model_selection import train_test_split\n",
    "from numpy.linalg import inv"
   ]
  },
  {
   "cell_type": "code",
   "execution_count": 2,
   "id": "392839c2-3d69-442b-b51b-622d7741364a",
   "metadata": {},
   "outputs": [
    {
     "data": {
      "text/html": [
       "<div>\n",
       "<style scoped>\n",
       "    .dataframe tbody tr th:only-of-type {\n",
       "        vertical-align: middle;\n",
       "    }\n",
       "\n",
       "    .dataframe tbody tr th {\n",
       "        vertical-align: top;\n",
       "    }\n",
       "\n",
       "    .dataframe thead th {\n",
       "        text-align: right;\n",
       "    }\n",
       "</style>\n",
       "<table border=\"1\" class=\"dataframe\">\n",
       "  <thead>\n",
       "    <tr style=\"text-align: right;\">\n",
       "      <th></th>\n",
       "      <th>Sex</th>\n",
       "      <th>Length</th>\n",
       "      <th>Diameter</th>\n",
       "      <th>Height</th>\n",
       "      <th>Whole weight</th>\n",
       "      <th>Shucked weight</th>\n",
       "      <th>Viscera weight</th>\n",
       "      <th>Shell weight</th>\n",
       "      <th>Rings</th>\n",
       "    </tr>\n",
       "  </thead>\n",
       "  <tbody>\n",
       "    <tr>\n",
       "      <th>0</th>\n",
       "      <td>M</td>\n",
       "      <td>0.350</td>\n",
       "      <td>0.265</td>\n",
       "      <td>0.090</td>\n",
       "      <td>0.2255</td>\n",
       "      <td>0.0995</td>\n",
       "      <td>0.0485</td>\n",
       "      <td>0.0700</td>\n",
       "      <td>7</td>\n",
       "    </tr>\n",
       "    <tr>\n",
       "      <th>1</th>\n",
       "      <td>F</td>\n",
       "      <td>0.530</td>\n",
       "      <td>0.420</td>\n",
       "      <td>0.135</td>\n",
       "      <td>0.6770</td>\n",
       "      <td>0.2565</td>\n",
       "      <td>0.1415</td>\n",
       "      <td>0.2100</td>\n",
       "      <td>9</td>\n",
       "    </tr>\n",
       "    <tr>\n",
       "      <th>2</th>\n",
       "      <td>M</td>\n",
       "      <td>0.440</td>\n",
       "      <td>0.365</td>\n",
       "      <td>0.125</td>\n",
       "      <td>0.5160</td>\n",
       "      <td>0.2155</td>\n",
       "      <td>0.1140</td>\n",
       "      <td>0.1550</td>\n",
       "      <td>10</td>\n",
       "    </tr>\n",
       "    <tr>\n",
       "      <th>3</th>\n",
       "      <td>I</td>\n",
       "      <td>0.330</td>\n",
       "      <td>0.255</td>\n",
       "      <td>0.080</td>\n",
       "      <td>0.2050</td>\n",
       "      <td>0.0895</td>\n",
       "      <td>0.0395</td>\n",
       "      <td>0.0550</td>\n",
       "      <td>7</td>\n",
       "    </tr>\n",
       "    <tr>\n",
       "      <th>4</th>\n",
       "      <td>I</td>\n",
       "      <td>0.425</td>\n",
       "      <td>0.300</td>\n",
       "      <td>0.095</td>\n",
       "      <td>0.3515</td>\n",
       "      <td>0.1410</td>\n",
       "      <td>0.0775</td>\n",
       "      <td>0.1200</td>\n",
       "      <td>8</td>\n",
       "    </tr>\n",
       "    <tr>\n",
       "      <th>...</th>\n",
       "      <td>...</td>\n",
       "      <td>...</td>\n",
       "      <td>...</td>\n",
       "      <td>...</td>\n",
       "      <td>...</td>\n",
       "      <td>...</td>\n",
       "      <td>...</td>\n",
       "      <td>...</td>\n",
       "      <td>...</td>\n",
       "    </tr>\n",
       "    <tr>\n",
       "      <th>4171</th>\n",
       "      <td>F</td>\n",
       "      <td>0.565</td>\n",
       "      <td>0.450</td>\n",
       "      <td>0.165</td>\n",
       "      <td>0.8870</td>\n",
       "      <td>0.3700</td>\n",
       "      <td>0.2390</td>\n",
       "      <td>0.2490</td>\n",
       "      <td>11</td>\n",
       "    </tr>\n",
       "    <tr>\n",
       "      <th>4172</th>\n",
       "      <td>M</td>\n",
       "      <td>0.590</td>\n",
       "      <td>0.440</td>\n",
       "      <td>0.135</td>\n",
       "      <td>0.9660</td>\n",
       "      <td>0.4390</td>\n",
       "      <td>0.2145</td>\n",
       "      <td>0.2605</td>\n",
       "      <td>10</td>\n",
       "    </tr>\n",
       "    <tr>\n",
       "      <th>4173</th>\n",
       "      <td>M</td>\n",
       "      <td>0.600</td>\n",
       "      <td>0.475</td>\n",
       "      <td>0.205</td>\n",
       "      <td>1.1760</td>\n",
       "      <td>0.5255</td>\n",
       "      <td>0.2875</td>\n",
       "      <td>0.3080</td>\n",
       "      <td>9</td>\n",
       "    </tr>\n",
       "    <tr>\n",
       "      <th>4174</th>\n",
       "      <td>F</td>\n",
       "      <td>0.625</td>\n",
       "      <td>0.485</td>\n",
       "      <td>0.150</td>\n",
       "      <td>1.0945</td>\n",
       "      <td>0.5310</td>\n",
       "      <td>0.2610</td>\n",
       "      <td>0.2960</td>\n",
       "      <td>10</td>\n",
       "    </tr>\n",
       "    <tr>\n",
       "      <th>4175</th>\n",
       "      <td>M</td>\n",
       "      <td>0.710</td>\n",
       "      <td>0.555</td>\n",
       "      <td>0.195</td>\n",
       "      <td>1.9485</td>\n",
       "      <td>0.9455</td>\n",
       "      <td>0.3765</td>\n",
       "      <td>0.4950</td>\n",
       "      <td>12</td>\n",
       "    </tr>\n",
       "  </tbody>\n",
       "</table>\n",
       "<p>4176 rows × 9 columns</p>\n",
       "</div>"
      ],
      "text/plain": [
       "     Sex  Length  Diameter  Height  Whole weight  Shucked weight  \\\n",
       "0      M   0.350     0.265   0.090        0.2255          0.0995   \n",
       "1      F   0.530     0.420   0.135        0.6770          0.2565   \n",
       "2      M   0.440     0.365   0.125        0.5160          0.2155   \n",
       "3      I   0.330     0.255   0.080        0.2050          0.0895   \n",
       "4      I   0.425     0.300   0.095        0.3515          0.1410   \n",
       "...   ..     ...       ...     ...           ...             ...   \n",
       "4171   F   0.565     0.450   0.165        0.8870          0.3700   \n",
       "4172   M   0.590     0.440   0.135        0.9660          0.4390   \n",
       "4173   M   0.600     0.475   0.205        1.1760          0.5255   \n",
       "4174   F   0.625     0.485   0.150        1.0945          0.5310   \n",
       "4175   M   0.710     0.555   0.195        1.9485          0.9455   \n",
       "\n",
       "      Viscera weight  Shell weight  Rings  \n",
       "0             0.0485        0.0700      7  \n",
       "1             0.1415        0.2100      9  \n",
       "2             0.1140        0.1550     10  \n",
       "3             0.0395        0.0550      7  \n",
       "4             0.0775        0.1200      8  \n",
       "...              ...           ...    ...  \n",
       "4171          0.2390        0.2490     11  \n",
       "4172          0.2145        0.2605     10  \n",
       "4173          0.2875        0.3080      9  \n",
       "4174          0.2610        0.2960     10  \n",
       "4175          0.3765        0.4950     12  \n",
       "\n",
       "[4176 rows x 9 columns]"
      ]
     },
     "execution_count": 2,
     "metadata": {},
     "output_type": "execute_result"
    }
   ],
   "source": [
    "data = pd.read_csv('abalone.data.csv')\n",
    "data.columns = ['Sex', 'Length', 'Diameter', 'Height', 'Whole weight', 'Shucked weight', 'Viscera weight', 'Shell weight', 'Rings']\n",
    "data"
   ]
  },
  {
   "cell_type": "code",
   "execution_count": 3,
   "id": "37b32cf6-8a3a-407c-b9f1-3aee8d453c24",
   "metadata": {},
   "outputs": [
    {
     "name": "stderr",
     "output_type": "stream",
     "text": [
      "C:\\Users\\apexl\\AppData\\Local\\Temp\\ipykernel_18008\\2601176157.py:1: FutureWarning: The default value of numeric_only in DataFrame.corr is deprecated. In a future version, it will default to False. Select only valid columns or specify the value of numeric_only to silence this warning.\n",
      "  corr = data.corr()\n"
     ]
    },
    {
     "data": {
      "text/html": [
       "<div>\n",
       "<style scoped>\n",
       "    .dataframe tbody tr th:only-of-type {\n",
       "        vertical-align: middle;\n",
       "    }\n",
       "\n",
       "    .dataframe tbody tr th {\n",
       "        vertical-align: top;\n",
       "    }\n",
       "\n",
       "    .dataframe thead th {\n",
       "        text-align: right;\n",
       "    }\n",
       "</style>\n",
       "<table border=\"1\" class=\"dataframe\">\n",
       "  <thead>\n",
       "    <tr style=\"text-align: right;\">\n",
       "      <th></th>\n",
       "      <th>Length</th>\n",
       "      <th>Diameter</th>\n",
       "      <th>Height</th>\n",
       "      <th>Whole weight</th>\n",
       "      <th>Shucked weight</th>\n",
       "      <th>Viscera weight</th>\n",
       "      <th>Shell weight</th>\n",
       "      <th>Rings</th>\n",
       "    </tr>\n",
       "  </thead>\n",
       "  <tbody>\n",
       "    <tr>\n",
       "      <th>Length</th>\n",
       "      <td>1.000000</td>\n",
       "      <td>0.986813</td>\n",
       "      <td>0.827552</td>\n",
       "      <td>0.925255</td>\n",
       "      <td>0.897905</td>\n",
       "      <td>0.903010</td>\n",
       "      <td>0.897697</td>\n",
       "      <td>0.557123</td>\n",
       "    </tr>\n",
       "    <tr>\n",
       "      <th>Diameter</th>\n",
       "      <td>0.986813</td>\n",
       "      <td>1.000000</td>\n",
       "      <td>0.833705</td>\n",
       "      <td>0.925452</td>\n",
       "      <td>0.893159</td>\n",
       "      <td>0.899726</td>\n",
       "      <td>0.905328</td>\n",
       "      <td>0.575005</td>\n",
       "    </tr>\n",
       "    <tr>\n",
       "      <th>Height</th>\n",
       "      <td>0.827552</td>\n",
       "      <td>0.833705</td>\n",
       "      <td>1.000000</td>\n",
       "      <td>0.819209</td>\n",
       "      <td>0.774957</td>\n",
       "      <td>0.798293</td>\n",
       "      <td>0.817326</td>\n",
       "      <td>0.558109</td>\n",
       "    </tr>\n",
       "    <tr>\n",
       "      <th>Whole weight</th>\n",
       "      <td>0.925255</td>\n",
       "      <td>0.925452</td>\n",
       "      <td>0.819209</td>\n",
       "      <td>1.000000</td>\n",
       "      <td>0.969403</td>\n",
       "      <td>0.966372</td>\n",
       "      <td>0.955351</td>\n",
       "      <td>0.540818</td>\n",
       "    </tr>\n",
       "    <tr>\n",
       "      <th>Shucked weight</th>\n",
       "      <td>0.897905</td>\n",
       "      <td>0.893159</td>\n",
       "      <td>0.774957</td>\n",
       "      <td>0.969403</td>\n",
       "      <td>1.000000</td>\n",
       "      <td>0.931956</td>\n",
       "      <td>0.882606</td>\n",
       "      <td>0.421256</td>\n",
       "    </tr>\n",
       "    <tr>\n",
       "      <th>Viscera weight</th>\n",
       "      <td>0.903010</td>\n",
       "      <td>0.899726</td>\n",
       "      <td>0.798293</td>\n",
       "      <td>0.966372</td>\n",
       "      <td>0.931956</td>\n",
       "      <td>1.000000</td>\n",
       "      <td>0.907647</td>\n",
       "      <td>0.504274</td>\n",
       "    </tr>\n",
       "    <tr>\n",
       "      <th>Shell weight</th>\n",
       "      <td>0.897697</td>\n",
       "      <td>0.905328</td>\n",
       "      <td>0.817326</td>\n",
       "      <td>0.955351</td>\n",
       "      <td>0.882606</td>\n",
       "      <td>0.907647</td>\n",
       "      <td>1.000000</td>\n",
       "      <td>0.628031</td>\n",
       "    </tr>\n",
       "    <tr>\n",
       "      <th>Rings</th>\n",
       "      <td>0.557123</td>\n",
       "      <td>0.575005</td>\n",
       "      <td>0.558109</td>\n",
       "      <td>0.540818</td>\n",
       "      <td>0.421256</td>\n",
       "      <td>0.504274</td>\n",
       "      <td>0.628031</td>\n",
       "      <td>1.000000</td>\n",
       "    </tr>\n",
       "  </tbody>\n",
       "</table>\n",
       "</div>"
      ],
      "text/plain": [
       "                  Length  Diameter    Height  Whole weight  Shucked weight  \\\n",
       "Length          1.000000  0.986813  0.827552      0.925255        0.897905   \n",
       "Diameter        0.986813  1.000000  0.833705      0.925452        0.893159   \n",
       "Height          0.827552  0.833705  1.000000      0.819209        0.774957   \n",
       "Whole weight    0.925255  0.925452  0.819209      1.000000        0.969403   \n",
       "Shucked weight  0.897905  0.893159  0.774957      0.969403        1.000000   \n",
       "Viscera weight  0.903010  0.899726  0.798293      0.966372        0.931956   \n",
       "Shell weight    0.897697  0.905328  0.817326      0.955351        0.882606   \n",
       "Rings           0.557123  0.575005  0.558109      0.540818        0.421256   \n",
       "\n",
       "                Viscera weight  Shell weight     Rings  \n",
       "Length                0.903010      0.897697  0.557123  \n",
       "Diameter              0.899726      0.905328  0.575005  \n",
       "Height                0.798293      0.817326  0.558109  \n",
       "Whole weight          0.966372      0.955351  0.540818  \n",
       "Shucked weight        0.931956      0.882606  0.421256  \n",
       "Viscera weight        1.000000      0.907647  0.504274  \n",
       "Shell weight          0.907647      1.000000  0.628031  \n",
       "Rings                 0.504274      0.628031  1.000000  "
      ]
     },
     "execution_count": 3,
     "metadata": {},
     "output_type": "execute_result"
    }
   ],
   "source": [
    "corr = data.corr()\n",
    "corr"
   ]
  },
  {
   "cell_type": "code",
   "execution_count": 4,
   "id": "ceb516ba-86f4-4f1d-9799-7c4ff960fa9e",
   "metadata": {},
   "outputs": [
    {
     "data": {
      "text/plain": [
       "<matplotlib.collections.PathCollection at 0x1ec8009b490>"
      ]
     },
     "execution_count": 4,
     "metadata": {},
     "output_type": "execute_result"
    },
    {
     "data": {
      "image/png": "[encoded data removed]",
      "text/plain": [
       "<Figure size 640x480 with 1 Axes>"
      ]
     },
     "metadata": {},
     "output_type": "display_data"
    }
   ],
   "source": [
    "plt.scatter(data['Height'] , data['Rings'])"
   ]
  },
  {
   "cell_type": "code",
   "execution_count": 59,
   "id": "4d2abaa9-25e2-4bb5-a297-40c11ac2c034",
   "metadata": {},
   "outputs": [
    {
     "data": {
      "text/plain": [
       "(3340, 1)"
      ]
     },
     "execution_count": 59,
     "metadata": {},
     "output_type": "execute_result"
    }
   ],
   "source": [
    "X = data[['Height']]\n",
    "Y = data['Rings']\n",
    "\n",
    "X_train, X_test, Y_train, Y_test = train_test_split(X , Y, test_size= 0.2)\n",
    "\n",
    "X_train.shape"
   ]
  },
  {
   "cell_type": "code",
   "execution_count": 69,
   "id": "e5d5f014-d654-49b6-86cc-c7271a0e4878",
   "metadata": {},
   "outputs": [],
   "source": [
    "class LinearLeastSquare:\n",
    "    def __init__(self):\n",
    "        pass\n",
    "    \n",
    "    # train\n",
    "    def fit(self, X, Y):\n",
    "        X = X.values.reshape(-1,1)\n",
    "        Y = Y.values.reshape(-1,1)\n",
    "        # w = (X.T * X)^-1 * (X.T * Y)\n",
    "        self.w = np.matmul(inv(np.matmul(X.T, X)), np.matmul(X.T, Y))\n",
    "    \n",
    "    def predict(self, x):\n",
    "        height_pred = x * self.w\n",
    "        return height_pred  \n",
    "    \n",
    "    def evaluate(self, X, Y, loss):\n",
    "        X = X.values.reshape(-1,1)\n",
    "        Y = Y.values.reshape(-1,1)\n",
    "        \n",
    "        Y_pred = []\n",
    "        for i in range(X.shape[0]):\n",
    "            y_pred = self.predict(X[i])\n",
    "            Y_pred.append(y_pred)\n",
    "        \n",
    "        Y_pred = np.array(Y_pred)\n",
    "        Error = Y - Y_pred\n",
    "        \n",
    "        if loss == 'MSE':\n",
    "            return np.mean(Error ** 2)\n",
    "        \n",
    "        elif loss == 'MAE':\n",
    "            return np.mean(np.abs(Error))\n",
    "        \n",
    "        elif loss == 'Huber':\n",
    "            is_small_error = np.abs(Error) < 1\n",
    "            squared_loss = np.square(Error) / 2\n",
    "            linear_loss  = np.abs(Error) - 0.5\n",
    "            huber = np.mean(np.where(is_small_error, squared_loss, linear_loss))\n",
    "            print('Huber loss:')\n",
    "            return huber\n",
    "        \n",
    "        elif loss == 'Hinge':\n",
    "            new_predicted = np.array([-1 if i==0 else i for i in Y_pred])\n",
    "            new_actual = np.array([-1 if i==0 else i for i in Y])\n",
    "\n",
    "            # calculating hinge loss\n",
    "            hinge_loss = np.mean([max(0, 1-x*y) for x, y in zip(new_actual, new_predicted)])\n",
    "            print('Hinge loss:')\n",
    "            return hinge_loss"
   ]
  },
  {
   "cell_type": "code",
   "execution_count": 70,
   "id": "cc7d90b5-5e7d-4d4d-80ff-fc20d2a766a6",
   "metadata": {},
   "outputs": [],
   "source": [
    "lls = LinearLeastSquare()\n",
    "lls.fit(X_train, Y_train)"
   ]
  },
  {
   "cell_type": "code",
   "execution_count": 71,
   "id": "314a8d47-ce1f-4241-9cdc-a677044ce83d",
   "metadata": {},
   "outputs": [
    {
     "data": {
      "text/plain": [
       "array([[68.6037125]])"
      ]
     },
     "execution_count": 71,
     "metadata": {},
     "output_type": "execute_result"
    }
   ],
   "source": [
    "lls.w"
   ]
  },
  {
   "cell_type": "code",
   "execution_count": 72,
   "id": "09fb0c9f-1c88-4af5-b8bd-ebb695f54816",
   "metadata": {},
   "outputs": [],
   "source": [
    "Y_pred = X_train * lls.w[0,0]"
   ]
  },
  {
   "cell_type": "code",
   "execution_count": 73,
   "id": "d9d47278-d888-4928-8992-dbe626435573",
   "metadata": {},
   "outputs": [
    {
     "data": {
      "text/plain": [
       "[<matplotlib.lines.Line2D at 0x2bbd5581030>]"
      ]
     },
     "execution_count": 73,
     "metadata": {},
     "output_type": "execute_result"
    },
    {
     "data": {
      "image/png": "[encoded data removed]",
      "text/plain": [
       "<Figure size 640x480 with 1 Axes>"
      ]
     },
     "metadata": {},
     "output_type": "display_data"
    }
   ],
   "source": [
    "plt.scatter(X_train, Y_train, c='b', marker='.')\n",
    "plt.scatter(X_test, Y_test, c='g', marker='.')\n",
    "plt.plot(X_train, Y_pred, c='r', lw=4)"
   ]
  },
  {
   "cell_type": "code",
   "execution_count": 74,
   "id": "c022c425-b1c3-4617-9739-5b23174b46b9",
   "metadata": {},
   "outputs": [
    {
     "data": {
      "text/plain": [
       "3.132552916692167"
      ]
     },
     "execution_count": 74,
     "metadata": {},
     "output_type": "execute_result"
    }
   ],
   "source": [
    "lls.evaluate(X_test, Y_test, loss='MAE')"
   ]
  },
  {
   "cell_type": "code",
   "execution_count": 75,
   "id": "982c5afa-2591-4de3-8655-4f15d43aed98",
   "metadata": {},
   "outputs": [
    {
     "data": {
      "text/plain": [
       "16.21021203238472"
      ]
     },
     "execution_count": 75,
     "metadata": {},
     "output_type": "execute_result"
    }
   ],
   "source": [
    "lls.evaluate(X_test, Y_test, loss='MSE')"
   ]
  },
  {
   "cell_type": "code",
   "execution_count": 76,
   "id": "ba0658fd-66d7-44c3-a939-0d04bf8b3c5e",
   "metadata": {},
   "outputs": [
    {
     "name": "stdout",
     "output_type": "stream",
     "text": [
      "Huber loss:\n"
     ]
    },
    {
     "data": {
      "text/plain": [
       "2.6672198585073676"
      ]
     },
     "execution_count": 76,
     "metadata": {},
     "output_type": "execute_result"
    }
   ],
   "source": [
    "lls.evaluate(X_test, Y_test, loss='Huber')"
   ]
  },
  {
   "cell_type": "code",
   "execution_count": 77,
   "id": "26e39d74-d7d0-475f-b23b-a62034b69655",
   "metadata": {},
   "outputs": [
    {
     "name": "stdout",
     "output_type": "stream",
     "text": [
      "Hinge loss:\n"
     ]
    },
    {
     "data": {
      "text/plain": [
       "array([[0.00037555]])"
      ]
     },
     "execution_count": 77,
     "metadata": {},
     "output_type": "execute_result"
    }
   ],
   "source": [
    "lls.evaluate(X_test, Y_test, loss='Hinge')"
   ]
  },
  {
   "cell_type": "code",
   "execution_count": null,
   "id": "fa40acaa-e73e-4089-a969-74a95db81f0c",
   "metadata": {},
   "outputs": [],
   "source": []
  }
 ],
 "metadata": {
  "kernelspec": {
   "display_name": "Python 3 (ipykernel)",
   "language": "python",
   "name": "python3"
  },
  "language_info": {
   "codemirror_mode": {
    "name": "ipython",
    "version": 3
   },
   "file_extension": ".py",
   "mimetype": "text/x-python",
   "name": "python",
   "nbconvert_exporter": "python",
   "pygments_lexer": "ipython3",
   "version": "3.10.8"
  }
 },
 "nbformat": 4,
 "nbformat_minor": 5
}
